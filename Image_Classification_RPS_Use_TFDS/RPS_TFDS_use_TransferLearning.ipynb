{
  "cells": [
    {
      "cell_type": "markdown",
      "metadata": {
        "id": "aa-G5cYNvud5"
      },
      "source": [
        "# Rock, Paper, and Scissors\n",
        "\n",
        "## i'm running it in Google Collab\n"
      ]
    },
    {
      "cell_type": "code",
      "execution_count": 10,
      "metadata": {
        "id": "sujv00uKvueA"
      },
      "outputs": [],
      "source": [
        "from os import getcwd\n",
        "\n",
        "import tensorflow as tf\n",
        "import tensorflow_datasets as tfds"
      ]
    },
    {
      "cell_type": "markdown",
      "metadata": {
        "id": "gB8Vmd4avueG"
      },
      "source": [
        "## Load mobilenet model and its features\n"
      ]
    },
    {
      "cell_type": "code",
      "execution_count": 11,
      "metadata": {
        "id": "xrs8R6eHvueH"
      },
      "outputs": [],
      "source": [
        "import tensorflow_hub as hub\n",
        "\n",
        "model_selection = (\"mobilenet_v2\", 224, 1280)\n",
        "handle_base, pixels, FV_SIZE = model_selection\n",
        "IMAGE_SIZE = (pixels, pixels)\n",
        "\n",
        "MODULE_HANDLE = \"https://tfhub.dev/google/tf2-preview/{}/feature_vector/4\".format(\n",
        "    handle_base\n",
        ")\n",
        "feature_extractor = hub.KerasLayer(MODULE_HANDLE, input_shape=IMAGE_SIZE + (3,))\n",
        "feature_extractor.trainable = True"
      ]
    },
    {
      "cell_type": "markdown",
      "metadata": {
        "id": "T8X9B16nvueJ"
      },
      "source": [
        "## Make one hot encoding for the labels. the labels have 3 classes\n"
      ]
    },
    {
      "cell_type": "code",
      "execution_count": 12,
      "metadata": {
        "colab": {
          "base_uri": "https://localhost:8080/"
        },
        "id": "YjGrMqUDvueK",
        "outputId": "fd110f86-6757-4fec-dab2-3ffeb5907b76"
      },
      "outputs": [
        {
          "output_type": "stream",
          "name": "stdout",
          "text": [
            "tf.Tensor(\n",
            "[[0. 1. 0.]\n",
            " [0. 0. 1.]\n",
            " [0. 0. 0.]\n",
            " [0. 1. 0.]\n",
            " [0. 0. 1.]], shape=(5, 3), dtype=float32)\n"
          ]
        }
      ],
      "source": [
        "def OneHotEncoding(feature, label):\n",
        "    one_hot = tf.one_hot(label, 3)\n",
        "    return feature, one_hot\n",
        "\n",
        "\n",
        "# Test the function\n",
        "_, one_hot = OneHotEncoding([\"a\", \"b\", \"c\", \"a\", \"b\"], [1, 2, 3, 1, 2])\n",
        "print(one_hot)"
      ]
    },
    {
      "cell_type": "markdown",
      "metadata": {
        "id": "2dsB1aUvvueL"
      },
      "source": [
        "## Load The Dataset and Explore it\n"
      ]
    },
    {
      "cell_type": "code",
      "execution_count": 13,
      "metadata": {
        "colab": {
          "base_uri": "https://localhost:8080/"
        },
        "id": "FLYEoJQIvueM",
        "outputId": "31fb5860-bb04-45c7-9274-7228b479f817"
      },
      "outputs": [
        {
          "output_type": "stream",
          "name": "stdout",
          "text": [
            "Amount of train data: 2520\n",
            "Amount of test data: 372\n",
            "(300, 300, 3)\n"
          ]
        }
      ],
      "source": [
        "filepath = f\"{getcwd()}/data\"\n",
        "\n",
        "train_data = tfds.load(\n",
        "    \"rock_paper_scissors:3.*.*\", split=\"train\", data_dir=filepath, as_supervised=True\n",
        ")\n",
        "test_data = tfds.load(\n",
        "    \"rock_paper_scissors:3.*.*\", split=\"test\", data_dir=filepath, as_supervised=True\n",
        ")\n",
        "\n",
        "# Knowing the amount of data\n",
        "print(f\"Amount of train data: {len(list(train_data))}\")\n",
        "print(f\"Amount of test data: {len(list(test_data))}\")\n",
        "\n",
        "# Knowing the shape of image\n",
        "_, info = tfds.load(\"rock_paper_scissors:3.*.*\", with_info=True, data_dir=filepath)\n",
        "\n",
        "# DO NOT EDIT THIS\n",
        "print(info.features[\"image\"].shape)"
      ]
    },
    {
      "cell_type": "markdown",
      "metadata": {
        "id": "6LLlnnBUvueN"
      },
      "source": [
        "## Mapping dataset use one hot encode function\n"
      ]
    },
    {
      "cell_type": "code",
      "execution_count": 14,
      "metadata": {
        "colab": {
          "base_uri": "https://localhost:8080/"
        },
        "id": "B5I5OxqjvueN",
        "outputId": "0f2b3853-8b21-42b7-d0a2-5afb23407375"
      },
      "outputs": [
        {
          "output_type": "stream",
          "name": "stdout",
          "text": [
            "<class 'tensorflow.python.data.ops.map_op._MapDataset'>\n"
          ]
        }
      ],
      "source": [
        "train_data = train_data.map(OneHotEncoding)\n",
        "test_data = test_data.map(OneHotEncoding)\n",
        "\n",
        "print(type(train_data))"
      ]
    },
    {
      "cell_type": "code",
      "source": [
        "def resize_image(image, label):\n",
        "    image = tf.image.resize(image, [224, 224])\n",
        "    return image, label\n",
        "\n",
        "train_data = train_data.map(resize_image)\n",
        "test_data = test_data.map(resize_image)\n",
        "\n",
        "print(type(train_data))"
      ],
      "metadata": {
        "colab": {
          "base_uri": "https://localhost:8080/"
        },
        "id": "0aYyoqCt0LEE",
        "outputId": "c2fdd9ec-0b25-4455-90b9-dda8a5ca36f2"
      },
      "execution_count": 15,
      "outputs": [
        {
          "output_type": "stream",
          "name": "stdout",
          "text": [
            "<class 'tensorflow.python.data.ops.map_op._MapDataset'>\n"
          ]
        }
      ]
    },
    {
      "cell_type": "markdown",
      "metadata": {
        "id": "KbiJ-4P4vueO"
      },
      "source": [
        "## Use model Transfer Learning\n"
      ]
    },
    {
      "cell_type": "code",
      "execution_count": 16,
      "metadata": {
        "colab": {
          "base_uri": "https://localhost:8080/"
        },
        "id": "y4-HoLCEvueP",
        "outputId": "38c3443f-c610-4fba-8f2c-0f8e0df737c0"
      },
      "outputs": [
        {
          "output_type": "stream",
          "name": "stdout",
          "text": [
            "Model: \"sequential_1\"\n",
            "_________________________________________________________________\n",
            " Layer (type)                Output Shape              Param #   \n",
            "=================================================================\n",
            " keras_layer_1 (KerasLayer)  (None, 1280)              2257984   \n",
            "                                                                 \n",
            " flatten_1 (Flatten)         (None, 1280)              0         \n",
            "                                                                 \n",
            " dense_1 (Dense)             (None, 3)                 3843      \n",
            "                                                                 \n",
            "=================================================================\n",
            "Total params: 2261827 (8.63 MB)\n",
            "Trainable params: 2227715 (8.50 MB)\n",
            "Non-trainable params: 34112 (133.25 KB)\n",
            "_________________________________________________________________\n"
          ]
        }
      ],
      "source": [
        "model = tf.keras.Sequential(\n",
        "    [\n",
        "        feature_extractor,\n",
        "        tf.keras.layers.Flatten(),\n",
        "        tf.keras.layers.Dense(3, activation=\"softmax\"),\n",
        "    ]\n",
        ")\n",
        "\n",
        "model.summary()"
      ]
    },
    {
      "cell_type": "markdown",
      "metadata": {
        "id": "qc3qlCYJvueQ"
      },
      "source": [
        "## Evaluate model\n"
      ]
    },
    {
      "cell_type": "code",
      "source": [
        "train_batches = train_data.shuffle(100).batch(10)\n",
        "validation_batches = test_data.batch(32)"
      ],
      "metadata": {
        "id": "BYr24RIXx_y_"
      },
      "execution_count": 17,
      "outputs": []
    },
    {
      "cell_type": "code",
      "execution_count": 18,
      "metadata": {
        "colab": {
          "base_uri": "https://localhost:8080/"
        },
        "id": "usECYnj8vueR",
        "outputId": "0978c9b9-b190-4bc2-81fe-887ed4d5190d"
      },
      "outputs": [
        {
          "output_type": "stream",
          "name": "stdout",
          "text": [
            "Epoch 1/1000\n",
            "7/7 [==============================] - 54s 5s/step - loss: 0.3937 - accuracy: 0.8393 - val_loss: 0.9566 - val_accuracy: 0.5780\n",
            "Epoch 2/1000\n",
            "7/7 [==============================] - 34s 5s/step - loss: 0.2730 - accuracy: 0.9464 - val_loss: 3.0787 - val_accuracy: 0.6667\n",
            "Epoch 3/1000\n",
            "7/7 [==============================] - 42s 7s/step - loss: 0.3183 - accuracy: 0.9286 - val_loss: 11.8986 - val_accuracy: 0.5860\n",
            "Epoch 4/1000\n",
            "7/7 [==============================] - 43s 7s/step - loss: 0.1577 - accuracy: 0.9643 - val_loss: 26.4999 - val_accuracy: 0.3333\n",
            "Epoch 5/1000\n",
            "7/7 [==============================] - 33s 5s/step - loss: 0.1398 - accuracy: 0.9732 - val_loss: 20.4926 - val_accuracy: 0.3548\n",
            "Epoch 6/1000\n",
            "7/7 [==============================] - 33s 5s/step - loss: 0.5697 - accuracy: 0.9375 - val_loss: 16.9628 - val_accuracy: 0.4758\n",
            "Epoch 7/1000\n",
            "7/7 [==============================] - 42s 6s/step - loss: 0.1791 - accuracy: 0.9554 - val_loss: 10.7459 - val_accuracy: 0.6586\n",
            "Epoch 8/1000\n",
            "7/7 [==============================] - 42s 7s/step - loss: 0.1371 - accuracy: 0.9911 - val_loss: 12.2890 - val_accuracy: 0.6667\n",
            "Epoch 9/1000\n",
            "7/7 [==============================] - 43s 7s/step - loss: 0.1425 - accuracy: 0.9732 - val_loss: 5.5875 - val_accuracy: 0.6667\n",
            "Epoch 10/1000\n",
            "7/7 [==============================] - 43s 7s/step - loss: 0.0993 - accuracy: 0.9911 - val_loss: 4.4377 - val_accuracy: 0.6667\n",
            "Epoch 11/1000\n",
            "7/7 [==============================] - 33s 5s/step - loss: 0.0887 - accuracy: 1.0000 - val_loss: 2.9554 - val_accuracy: 0.6962\n",
            "Epoch 12/1000\n",
            "7/7 [==============================] - 43s 7s/step - loss: 0.0886 - accuracy: 1.0000 - val_loss: 1.4911 - val_accuracy: 0.7715\n",
            "Epoch 13/1000\n",
            "7/7 [==============================] - ETA: 0s - loss: 0.1349 - accuracy: 0.9911\n",
            "Reached 96% accuracy so cancelling training!\n",
            "7/7 [==============================] - 43s 7s/step - loss: 0.1349 - accuracy: 0.9911 - val_loss: 0.2979 - val_accuracy: 0.9758\n",
            "Final Training Accuracy:- 0.9910714030265808\n",
            "Final Validation Accuracy:- 0.975806474685669\n"
          ]
        }
      ],
      "source": [
        "class MyCallback(tf.keras.callbacks.Callback):\n",
        "    def on_epoch_end(self, epoch, logs=None):\n",
        "        if logs.get(\"accuracy\") > 0.96 and logs.get(\"val_accuracy\") > 0.96:\n",
        "            print(\"\\nReached 96% accuracy so cancelling training!\")\n",
        "            self.model.stop_training = True\n",
        "\n",
        "# Buat instance dari callback\n",
        "my_callback = MyCallback()\n",
        "\n",
        "model.compile(\n",
        "    loss=tf.keras.losses.categorical_crossentropy,\n",
        "    optimizer=tf.keras.optimizers.Adam(),\n",
        "    metrics=[\"accuracy\"],\n",
        ")\n",
        "\n",
        "history = model.fit(\n",
        "    train_batches, epochs=1000, validation_data=validation_batches,callbacks=[my_callback],steps_per_epoch=7\n",
        ")\n",
        "\n",
        "print(\"Final Training Accuracy:-\", history.history[\"accuracy\"][-1])\n",
        "print(\"Final Validation Accuracy:-\", history.history[\"val_accuracy\"][-1])"
      ]
    },
    {
      "cell_type": "code",
      "source": [],
      "metadata": {
        "id": "IEsgZasM_wTz"
      },
      "execution_count": 18,
      "outputs": []
    }
  ],
  "metadata": {
    "kernelspec": {
      "display_name": "Python 3",
      "name": "python3"
    },
    "language_info": {
      "codemirror_mode": {
        "name": "ipython",
        "version": 3
      },
      "file_extension": ".py",
      "mimetype": "text/x-python",
      "name": "python",
      "nbconvert_exporter": "python",
      "pygments_lexer": "ipython3",
      "version": "3.11.4"
    },
    "colab": {
      "provenance": [],
      "gpuType": "T4"
    },
    "accelerator": "GPU"
  },
  "nbformat": 4,
  "nbformat_minor": 0
}